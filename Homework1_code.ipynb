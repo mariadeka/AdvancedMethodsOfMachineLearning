{
 "cells": [
  {
   "metadata": {},
   "cell_type": "code",
   "source": [
    "import pandas as pd\n",
    "from sklearn.linear_model import LogisticRegression\n",
    "from sklearn.discriminant_analysis import LinearDiscriminantAnalysis, QuadraticDiscriminantAnalysis\n",
    "import numpy as np\n",
    "from sklearn.neighbors import KernelDensity\n",
    "from sklearn.base import BaseEstimator, ClassifierMixin\n",
    "\n",
    "data_train = pd.read_csv(\"/Users/mariadeka/Downloads/train.csv\")\n",
    "X_test = pd.read_csv(\"/Users/mariadeka/Downloads/test.csv\")\n",
    "X_train = data_train.iloc[:, :-1]\n",
    "y_train = data_train.iloc[:, -1]"
   ],
   "id": "fbc121e30a2defb3",
   "outputs": [],
   "execution_count": null
  },
  {
   "metadata": {},
   "cell_type": "code",
   "source": [
    "from sklearn.preprocessing import StandardScaler, PolynomialFeatures\n",
    "poly2 = PolynomialFeatures(degree=2)\n",
    "poly3 = PolynomialFeatures(degree=3)\n",
    "\n",
    "X_train_poly2 = poly2.fit_transform(X_train)\n",
    "X_train_poly3 = poly3.fit_transform(X_train)\n",
    "X_test_poly2 = poly2.fit_transform(X_test)\n",
    "\n",
    "scaler_original = StandardScaler()\n",
    "X_train_scaled = scaler_original.fit_transform(X_train)\n",
    "scaler_poly2 = StandardScaler()\n",
    "X_train_poly2_scaled = scaler_poly2.fit_transform(X_train_poly2)\n",
    "scaler_poly3 = StandardScaler()\n",
    "X_train_poly3_scaled = scaler_poly3.fit_transform(X_train_poly3)\n",
    "\n",
    "\n",
    "models = {\n",
    "    \"LogReg (original)\": LogisticRegression(max_iter=1000),\n",
    "    \"LogReg (poly=2)\": LogisticRegression(max_iter=1000),\n",
    "    \"LogReg (poly=3)\": LogisticRegression(max_iter=1000),\n",
    "    \"LDA (original)\": LinearDiscriminantAnalysis(),\n",
    "    \"LDA (poly=2)\": LinearDiscriminantAnalysis(),\n",
    "    \"LDA (poly=3)\": LinearDiscriminantAnalysis(),\n",
    "    \"QDA\": QuadraticDiscriminantAnalysis(),\n",
    "}\n"
   ],
   "id": "ca815fee360eab67",
   "outputs": [],
   "execution_count": null
  },
  {
   "metadata": {},
   "cell_type": "code",
   "source": [
    "class DensityClassifier(BaseEstimator, ClassifierMixin):\n",
    "    def __init__(self, bandwidth=0.5, kernel='gaussian'):\n",
    "        self.bandwidth = bandwidth\n",
    "        self.kernel = kernel\n",
    "        self.kde_models = {}\n",
    "        self.classes_ = None\n",
    "        self.log_priors_ = {}\n",
    "\n",
    "    def fit(self, X, y):\n",
    "        self.classes_ = np.unique(y)\n",
    "        for c in self.classes_:\n",
    "            X_c = X[y == c]\n",
    "            kde = KernelDensity(kernel=self.kernel, bandwidth=self.bandwidth)\n",
    "            kde.fit(X_c)\n",
    "            self.kde_models[c] = kde\n",
    "            self.log_priors_[c] = np.log(len(X_c) / len(X))\n",
    "\n",
    "    def predict(self, X):\n",
    "        scores = np.zeros((X.shape[0], len(self.classes_)))\n",
    "        for i, c in enumerate(self.classes_):\n",
    "            log_density = self.kde_models[c].score_samples(X)\n",
    "            scores[:, i] = log_density + self.log_priors_[c]\n",
    "        predictions = self.classes_[np.argmax(scores, axis=1)]\n",
    "        return predictions\n",
    "\n",
    "    def get_params(self, deep=True):\n",
    "        return {\"bandwidth\": self.bandwidth, \"kernel\": self.kernel}\n",
    "\n",
    "    def set_params(self, **params):\n",
    "        for param, value in params.items():\n",
    "            setattr(self, param, value)\n",
    "        return self\n"
   ],
   "id": "6541ce476d3e9b68",
   "outputs": [],
   "execution_count": null
  },
  {
   "metadata": {},
   "cell_type": "code",
   "source": "models[\"KDE\"] = DensityClassifier(bandwidth=0.5)",
   "id": "d2e4da1f076a85ef",
   "outputs": [],
   "execution_count": null
  },
  {
   "metadata": {
    "ExecuteTime": {
     "end_time": "2025-03-16T17:09:28.743990Z",
     "start_time": "2025-03-16T17:09:28.292299Z"
    }
   },
   "cell_type": "code",
   "source": [
    "from sklearn.model_selection import cross_val_score, StratifiedKFold\n",
    "\n",
    "cv = StratifiedKFold(n_splits=5, shuffle=True, random_state=123456) #42563478\n",
    "scores = {}\n",
    "\n",
    "for name, model in models.items():\n",
    "    if \"poly=2\" in name:\n",
    "        X_train_used = X_train_poly2_scaled\n",
    "    elif \"poly=3\" in name:\n",
    "        X_train_used = X_train_poly3_scaled\n",
    "    else:\n",
    "        X_train_used = X_train_scaled\n",
    "\n",
    "    score = cross_val_score(model, X_train_used, y_train, cv=cv, scoring=\"accuracy\").mean()\n",
    "    scores[name] = score\n",
    "    print(f\"{name}: {score:.4f}\")"
   ],
   "id": "3febb08f417113f6",
   "outputs": [
    {
     "name": "stdout",
     "output_type": "stream",
     "text": [
      "LogReg (original): 0.8133\n",
      "LogReg (poly=2): 0.9387\n",
      "LogReg (poly=3): 0.9293\n",
      "LDA (original): 0.8107\n",
      "LDA (poly=2): 0.9187\n",
      "LDA (poly=3): 0.8840\n",
      "QDA: 0.9253\n"
     ]
    }
   ],
   "execution_count": 83
  },
  {
   "metadata": {},
   "cell_type": "markdown",
   "source": "Zatem najlepszym modelem jest regresja logistyczna z rozszerzoną przestrzenią cech, z dokładnością na poziomie 0.9387.",
   "id": "75e055c367623784"
  },
  {
   "metadata": {
    "ExecuteTime": {
     "end_time": "2025-03-16T17:10:21.973299Z",
     "start_time": "2025-03-16T17:10:21.960359Z"
    }
   },
   "cell_type": "code",
   "source": "best_model_name = max(scores, key=scores.get)",
   "id": "2c5a857466185caa",
   "outputs": [],
   "execution_count": 84
  },
  {
   "metadata": {
    "ExecuteTime": {
     "end_time": "2025-03-16T17:10:22.964239Z",
     "start_time": "2025-03-16T17:10:22.960613Z"
    }
   },
   "cell_type": "code",
   "source": "best_model = models[best_model_name]",
   "id": "82c406ade3e7f0f5",
   "outputs": [],
   "execution_count": 85
  },
  {
   "metadata": {
    "ExecuteTime": {
     "end_time": "2025-03-16T17:10:29.902499Z",
     "start_time": "2025-03-16T17:10:29.875122Z"
    }
   },
   "cell_type": "code",
   "source": "best_model.fit(X_train_poly2_scaled, y_train)",
   "id": "8eb8b2c4c58ac155",
   "outputs": [
    {
     "data": {
      "text/plain": [
       "LogisticRegression(max_iter=1000)"
      ],
      "text/html": [
       "<style>#sk-container-id-19 {color: black;}#sk-container-id-19 pre{padding: 0;}#sk-container-id-19 div.sk-toggleable {background-color: white;}#sk-container-id-19 label.sk-toggleable__label {cursor: pointer;display: block;width: 100%;margin-bottom: 0;padding: 0.3em;box-sizing: border-box;text-align: center;}#sk-container-id-19 label.sk-toggleable__label-arrow:before {content: \"▸\";float: left;margin-right: 0.25em;color: #696969;}#sk-container-id-19 label.sk-toggleable__label-arrow:hover:before {color: black;}#sk-container-id-19 div.sk-estimator:hover label.sk-toggleable__label-arrow:before {color: black;}#sk-container-id-19 div.sk-toggleable__content {max-height: 0;max-width: 0;overflow: hidden;text-align: left;background-color: #f0f8ff;}#sk-container-id-19 div.sk-toggleable__content pre {margin: 0.2em;color: black;border-radius: 0.25em;background-color: #f0f8ff;}#sk-container-id-19 input.sk-toggleable__control:checked~div.sk-toggleable__content {max-height: 200px;max-width: 100%;overflow: auto;}#sk-container-id-19 input.sk-toggleable__control:checked~label.sk-toggleable__label-arrow:before {content: \"▾\";}#sk-container-id-19 div.sk-estimator input.sk-toggleable__control:checked~label.sk-toggleable__label {background-color: #d4ebff;}#sk-container-id-19 div.sk-label input.sk-toggleable__control:checked~label.sk-toggleable__label {background-color: #d4ebff;}#sk-container-id-19 input.sk-hidden--visually {border: 0;clip: rect(1px 1px 1px 1px);clip: rect(1px, 1px, 1px, 1px);height: 1px;margin: -1px;overflow: hidden;padding: 0;position: absolute;width: 1px;}#sk-container-id-19 div.sk-estimator {font-family: monospace;background-color: #f0f8ff;border: 1px dotted black;border-radius: 0.25em;box-sizing: border-box;margin-bottom: 0.5em;}#sk-container-id-19 div.sk-estimator:hover {background-color: #d4ebff;}#sk-container-id-19 div.sk-parallel-item::after {content: \"\";width: 100%;border-bottom: 1px solid gray;flex-grow: 1;}#sk-container-id-19 div.sk-label:hover label.sk-toggleable__label {background-color: #d4ebff;}#sk-container-id-19 div.sk-serial::before {content: \"\";position: absolute;border-left: 1px solid gray;box-sizing: border-box;top: 0;bottom: 0;left: 50%;z-index: 0;}#sk-container-id-19 div.sk-serial {display: flex;flex-direction: column;align-items: center;background-color: white;padding-right: 0.2em;padding-left: 0.2em;position: relative;}#sk-container-id-19 div.sk-item {position: relative;z-index: 1;}#sk-container-id-19 div.sk-parallel {display: flex;align-items: stretch;justify-content: center;background-color: white;position: relative;}#sk-container-id-19 div.sk-item::before, #sk-container-id-19 div.sk-parallel-item::before {content: \"\";position: absolute;border-left: 1px solid gray;box-sizing: border-box;top: 0;bottom: 0;left: 50%;z-index: -1;}#sk-container-id-19 div.sk-parallel-item {display: flex;flex-direction: column;z-index: 1;position: relative;background-color: white;}#sk-container-id-19 div.sk-parallel-item:first-child::after {align-self: flex-end;width: 50%;}#sk-container-id-19 div.sk-parallel-item:last-child::after {align-self: flex-start;width: 50%;}#sk-container-id-19 div.sk-parallel-item:only-child::after {width: 0;}#sk-container-id-19 div.sk-dashed-wrapped {border: 1px dashed gray;margin: 0 0.4em 0.5em 0.4em;box-sizing: border-box;padding-bottom: 0.4em;background-color: white;}#sk-container-id-19 div.sk-label label {font-family: monospace;font-weight: bold;display: inline-block;line-height: 1.2em;}#sk-container-id-19 div.sk-label-container {text-align: center;}#sk-container-id-19 div.sk-container {/* jupyter's `normalize.less` sets `[hidden] { display: none; }` but bootstrap.min.css set `[hidden] { display: none !important; }` so we also need the `!important` here to be able to override the default hidden behavior on the sphinx rendered scikit-learn.org. See: https://github.com/scikit-learn/scikit-learn/issues/21755 */display: inline-block !important;position: relative;}#sk-container-id-19 div.sk-text-repr-fallback {display: none;}</style><div id=\"sk-container-id-19\" class=\"sk-top-container\"><div class=\"sk-text-repr-fallback\"><pre>LogisticRegression(max_iter=1000)</pre><b>In a Jupyter environment, please rerun this cell to show the HTML representation or trust the notebook. <br />On GitHub, the HTML representation is unable to render, please try loading this page with nbviewer.org.</b></div><div class=\"sk-container\" hidden><div class=\"sk-item\"><div class=\"sk-estimator sk-toggleable\"><input class=\"sk-toggleable__control sk-hidden--visually\" id=\"sk-estimator-id-19\" type=\"checkbox\" checked><label for=\"sk-estimator-id-19\" class=\"sk-toggleable__label sk-toggleable__label-arrow\">LogisticRegression</label><div class=\"sk-toggleable__content\"><pre>LogisticRegression(max_iter=1000)</pre></div></div></div></div></div>"
      ]
     },
     "execution_count": 87,
     "metadata": {},
     "output_type": "execute_result"
    }
   ],
   "execution_count": 87
  },
  {
   "metadata": {
    "ExecuteTime": {
     "end_time": "2025-03-16T17:13:51.936627Z",
     "start_time": "2025-03-16T17:13:51.896315Z"
    }
   },
   "cell_type": "code",
   "source": [
    "X_test_scaled = scaler_poly2.transform(X_test_poly2)\n",
    "y_predicted = best_model.predict(X_test_scaled)\n",
    "np.savetxt('/Users/mariadeka/Downloads/y_predicted_Maria_Deka.txt', y_predicted, fmt='%d')"
   ],
   "id": "10d1feb67e7bc7ee",
   "outputs": [],
   "execution_count": 92
  }
 ],
 "metadata": {
  "kernelspec": {
   "display_name": "Python 3",
   "language": "python",
   "name": "python3"
  },
  "language_info": {
   "codemirror_mode": {
    "name": "ipython",
    "version": 2
   },
   "file_extension": ".py",
   "mimetype": "text/x-python",
   "name": "python",
   "nbconvert_exporter": "python",
   "pygments_lexer": "ipython2",
   "version": "2.7.6"
  }
 },
 "nbformat": 4,
 "nbformat_minor": 5
}
